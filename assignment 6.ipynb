{
 "cells": [
  {
   "cell_type": "code",
   "execution_count": 1,
   "metadata": {},
   "outputs": [
    {
     "name": "stdout",
     "output_type": "stream",
     "text": [
      "The number entered is not a perfect number\n"
     ]
    }
   ],
   "source": [
    "#ANSWER_1\n",
    "# perfect number or not \n",
    "# test cases = 6 28 496 8128 \n",
    "def main():\n",
    "    user_input = int(input(\"Enter the number here - \"))\n",
    "    divisor_list = []\n",
    "    sum = 0\n",
    "    for i in range(1,user_input):\n",
    "        if user_input % i == 0:\n",
    "            divisor_list.append(i)\n",
    "    for j in range(0 , len(divisor_list)):\n",
    "        sum = sum + divisor_list[j]\n",
    "    \n",
    "    if sum == user_input:\n",
    "        print(\"The number entered is a perfect number\")\n",
    "    else:\n",
    "        print(\"The number entered is not a perfect number\")\n",
    "main()"
   ]
  },
  {
   "cell_type": "code",
   "execution_count": null,
   "metadata": {},
   "outputs": [],
   "source": [
    "#ANSWER_2\n",
    "# passed string is palindrome or not\n",
    "def main():\n",
    "    user_input = str(input(\"Enter the string here - \"))\n",
    "    string = user_input.replace(\" \" , \"\")\n",
    "    reverse = string[::-1]\n",
    "    if reverse == string:\n",
    "        print(\"The string is palindrome\")\n",
    "    else:\n",
    "        print(\"The string is not a palindrome\")\n",
    "main()"
   ]
  },
  {
   "cell_type": "code",
   "execution_count": null,
   "metadata": {},
   "outputs": [],
   "source": [
    "#ANSWER_3\n",
    "# first n rows of pascals triangle\n",
    "from math import factorial\n",
    "def main():\n",
    "    rows = int(input(\"Enter the number of rows - \"))\n",
    "\n",
    "    for i in range(rows):\n",
    "        for j in range(rows - i+ 1):\n",
    "            print( end = \" \")\n",
    "        \n",
    "        for t in range(i+1):\n",
    "            answer = factorial(i)//(factorial(t) * factorial(i-t))\n",
    "            print(answer , end = \" \")\n",
    "        print()\n",
    "main()\n"
   ]
  },
  {
   "cell_type": "code",
   "execution_count": null,
   "metadata": {},
   "outputs": [],
   "source": [
    "#ANSWER_4\n",
    "# string is a panagram or not (contains every word of the alphabet table )\n",
    "def main():\n",
    "    Input = str(input(\"Enter the string here - \"))\n",
    "    alphabet = \"abcdefghijklmnopqrstuvwxyz\"\n",
    "    for char in alphabet:\n",
    "        if char not in Input.lower():\n",
    "            flag = True\n",
    "        else:\n",
    "            flag = False\n",
    "    if flag:\n",
    "        print(\"Not Panagram\")\n",
    "    else:\n",
    "        print(\"Panagram\")\n",
    "main()\n"
   ]
  },
  {
   "cell_type": "code",
   "execution_count": null,
   "metadata": {},
   "outputs": [],
   "source": [
    "#ANSWER_5\n",
    "# sorting alphabetically\n",
    "def main():\n",
    "    input_string = str(input(\"Enter the string here - \"))\n",
    "    list = input_string.split(\"-\")\n",
    "    list.sort()\n",
    "    for i in range(0 , len(list)):\n",
    "        print(f\"-{list[i]}\" , end = \" \")\n",
    "        \n",
    "    \n",
    "main()"
   ]
  },
  {
   "cell_type": "code",
   "execution_count": null,
   "metadata": {},
   "outputs": [],
   "source": [
    "#ANSWER_6\n",
    "def student_data(student_id , **kwargs):\n",
    "    print(f\"Student id is {student_id}\")\n",
    "    if \"student_name\" in kwargs:\n",
    "        print(f\"The student name is {kwargs['student_name']}\")\n",
    "    if \"student_name\" and \"student_branch\" in kwargs:\n",
    "        print(f\"The student name is {kwargs['student_name']} and branch is {kwargs['student_branch']}\")\n",
    "\n",
    "def main():\n",
    "    \n",
    "    student_data(student_id=\"22105079\")\n",
    "    student_data(student_id=\"22105079\" , student_name=\"GAUTAM\" , student_branch=\"ECE\")\n",
    "\n",
    "main()"
   ]
  },
  {
   "cell_type": "code",
   "execution_count": null,
   "metadata": {},
   "outputs": [],
   "source": [
    "#ANSWER_7\n",
    "# instance or not and subclasses\n",
    "def main():\n",
    "    class student():\n",
    "        pass\n",
    "    class marks():\n",
    "        pass\n",
    "    student1 = student()\n",
    "    marks1 = marks()\n",
    "    print(isinstance(student1 , student))\n",
    "    print(isinstance(marks1 , marks))\n",
    "    print(\"Whether the said classes are subclasses of the built-in object class or not\")\n",
    "    print(issubclass(student , object))\n",
    "    print(issubclass(marks , object))\n",
    "\n",
    "main()"
   ]
  },
  {
   "cell_type": "code",
   "execution_count": null,
   "metadata": {},
   "outputs": [],
   "source": [
    "#ANSWER_8\n",
    "# find the three elements that sum to zero from a set of n real number\n",
    "def main():\n",
    "    class solution():\n",
    "        def findTriplets(self , list1 , n):\n",
    "            list2 = []\n",
    "            for i in range(0 , n-2):\n",
    "                for j in range(i+1 , n-1):\n",
    "                    for k in range(j+1 , n):\n",
    "                        if list1[i] + list1[j] + list1[k] == 0:\n",
    "                            a = list1[i]\n",
    "                            b = list1[j]\n",
    "                            c = list1[k]\n",
    "                            list_number = [a , b ,c]\n",
    "                            list2.append(list_number)\n",
    "            print(list2)\n",
    "            \n",
    "    solution1 = solution()\n",
    "    list1 = [-25, -10, -7, -3, 2, 4, 8, 10]\n",
    "    n = len(list1)\n",
    "    solution1.findTriplets(list1 , n)\n",
    "main()"
   ]
  },
  {
   "cell_type": "code",
   "execution_count": null,
   "metadata": {},
   "outputs": [],
   "source": [
    "#ANSWER_9\n",
    "# validity of a string of parantheses\n",
    "def check(sequence):\n",
    "    for i in range(0,4):\n",
    "        if \"()\" in sequence:\n",
    "            sequence = sequence.replace(\"()\" , \"\")\n",
    "        elif \"{}\" in sequence:\n",
    "            sequence = sequence.replace(\"{}\" , \"\")\n",
    "        elif \"[]\" in sequence:\n",
    "            sequence = sequence.replace(\"[]\" , \"\")\n",
    "        else:\n",
    "            return not sequence\n",
    "def main():\n",
    "    seq = \"{{}{[\"\n",
    "    print(f\"if the set of parnatheses is correct? - {check(seq)}\")\n",
    "    seq2 = \"(){}[]\"\n",
    "    print(f\"if the set of parnatheses is correct? - {check(seq2)}\")\n",
    "main()"
   ]
  }
 ],
 "metadata": {
  "kernelspec": {
   "display_name": "Python 3",
   "language": "python",
   "name": "python3"
  },
  "language_info": {
   "codemirror_mode": {
    "name": "ipython",
    "version": 3
   },
   "file_extension": ".py",
   "mimetype": "text/x-python",
   "name": "python",
   "nbconvert_exporter": "python",
   "pygments_lexer": "ipython3",
   "version": "3.10.9"
  },
  "orig_nbformat": 4,
  "vscode": {
   "interpreter": {
    "hash": "7536d7b229462f4296d4c0dae49c3bd6cd3990c783d6b9d88ce3c31a78605890"
   }
  }
 },
 "nbformat": 4,
 "nbformat_minor": 2
}
